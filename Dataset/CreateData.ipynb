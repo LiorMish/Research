{
 "cells": [
  {
   "cell_type": "markdown",
   "metadata": {},
   "source": [
    "Imports"
   ]
  },
  {
   "cell_type": "code",
   "execution_count": null,
   "metadata": {},
   "outputs": [],
   "source": [
    "import subprocess\n",
    "import csv\n",
    "import os"
   ]
  },
  {
   "cell_type": "markdown",
   "metadata": {},
   "source": [
    "Varaibles"
   ]
  },
  {
   "cell_type": "code",
   "execution_count": null,
   "metadata": {},
   "outputs": [],
   "source": [
    "# C files directory\n",
    "source_directory = \"/home/mishutin/Desktop/Research/Projects/Example/files\"\n",
    "# Compiled files directory\n",
    "output_directory = \"/home/mishutin/Desktop/Research/Projects/Example/compiled_files\"\n",
    "\n",
    "# Define the compilation options\n",
    "compilers = [\"gcc\", \"clang\"]\n",
    "#optimization_levels = [\"O0\", \"O1\", \"O2\", \"O3\", \"Os\", \"Ofast\"]\n",
    "optimization_levels = [\"O0\", \"O1\"]\n",
    "# obfuscation_techniques = [\"obfuscation1\", \"obfuscation2\"]"
   ]
  },
  {
   "cell_type": "markdown",
   "metadata": {},
   "source": [
    "Compile Files"
   ]
  },
  {
   "cell_type": "code",
   "execution_count": null,
   "metadata": {},
   "outputs": [],
   "source": [
    "def createDir(directory_name):\n",
    "    new_directory = f\"{output_directory}/{directory_name}\"\n",
    "    try:\n",
    "        # Create the directory\n",
    "        os.makedirs(new_directory)\n",
    "        print(f\"Directory '{new_directory}' created successfully.\")\n",
    "    except FileExistsError:\n",
    "        print(f\"Directory '{new_directory}' already exists.\")\n",
    "\n",
    "def compileFile(file, compiler, optimization):\n",
    "    createDir(file)\n",
    "    output_path = f\"{output_directory}/{file}/{os.path.splitext(file)[0]}_{compiler}_{optimization}.o\"\n",
    "    input_path = f\"{source_directory}/{file}\"\n",
    "    return subprocess.run([compiler, \"-g\", input_path, f\"-{optimization}\", \"-o\", output_path])\n",
    "\n",
    "def compileAllFiles():\n",
    "    # Iterate over all C files\n",
    "    for file in os.listdir(source_directory):\n",
    "        # Compile file1 with different options\n",
    "        for compiler in compilers:\n",
    "            for optimization in optimization_levels:\n",
    "                # Compile file1 with compiler1, optimization1\n",
    "                compiled = compileFile(file, compiler, optimization)\n",
    "\n",
    "                # Check if the compilation was successful\n",
    "                if compiled.returncode == 0:\n",
    "                    print(\"Compilation successful!\")\n",
    "                else:\n",
    "                    print(f\"Compilation failed with the following error:\\n{compiled.stderr}\")\n"
   ]
  },
  {
   "cell_type": "markdown",
   "metadata": {},
   "source": [
    "Create Dataset"
   ]
  },
  {
   "cell_type": "code",
   "execution_count": null,
   "metadata": {},
   "outputs": [],
   "source": [
    "dataset = {}\n",
    "\n",
    "def clear_csv_file():\n",
    "    with open(\"dataset.csv\", \"w\", newline=\"\") as csvfile:\n",
    "        csvfile.write(\"\")  # Writing an empty string to clear the file\n",
    "\n",
    "def write_to_CSV(file1, path1, compiler1, optimization1, file2, path2, compiler2, optimization2, sameSourceFile):\n",
    "    with open(\"dataset.csv\", \"a\", newline=\"\") as csvfile:\n",
    "        csv_writer = csv.writer(csvfile)\n",
    "        # Write to the dataset\n",
    "        csv_writer.writerow([\n",
    "        file1, path1, compiler1, optimization1,\n",
    "        file2, path2, compiler2, optimization2,\n",
    "        sameSourceFile\n",
    "        ])\n",
    "\n",
    "def extract_info_from_filename(filename):\n",
    "    # Assuming the filename is in the format \"filename_compiler_optimization.o\"\n",
    "    parts = os.path.splitext(filename)[0].split('_')\n",
    "    if len(parts) == 3:\n",
    "        return parts[0], parts[1], parts[2]\n",
    "    else:\n",
    "        return None, None\n",
    "    \n",
    "def updateDataset(filename1, file_path1, compiler1, optimization1, filename2, file_path2, compiler2, optimization2):\n",
    "    if (filename1, compiler1, optimization1, filename2, compiler2, optimization2) not in dataset:\n",
    "\n",
    "        dataset[(filename1, compiler1, optimization1, filename2, compiler2, optimization2)] = True\n",
    "        dataset[(filename2, compiler2, optimization2, filename1, compiler1, optimization1)] = True\n",
    "\n",
    "        # Check if file1 and file2 came from the same source\n",
    "        same_source = filename1 == filename2\n",
    "        \n",
    "        write_to_CSV(filename1, file_path1, compiler1, optimization1, filename2, file_path2, compiler2, optimization2, same_source)\n",
    "    \n",
    "def process_directory(directory_path):\n",
    "    files = {}\n",
    "    for filename1 in os.listdir(directory_path):\n",
    "        file_path1 = os.path.join(output_directory, filename1)\n",
    "        file_name1, compiler1, optimization1 = extract_info_from_filename(filename1)\n",
    "        for filename2 in os.listdir(directory_path):\n",
    "            # Skip the same file\n",
    "            if filename1 == filename2:\n",
    "                continue\n",
    "            file_path2 = os.path.join(output_directory, filename2)\n",
    "            file_name2, compiler2, optimization2 = extract_info_from_filename(filename2)\n",
    "\n",
    "            if compiler1 is not None and optimization1 is not None and compiler2 is not None and optimization2 is not None:\n",
    "                updateDataset(file_name1, file_path1, compiler1, optimization1, file_name2, file_path2, compiler2, optimization2)\n",
    "            else:\n",
    "                print(\"Bad arguments\")\n",
    "    \n",
    "def process_two_directories(subdirectory1_path, subdirectory2_path):\n",
    "    for filename1 in os.listdir(subdirectory1_path):\n",
    "        compiler1, optimization1 = extract_info_from_filename(filename1)\n",
    "        for filename2 in os.listdir(subdirectory2_path):\n",
    "            compiler2, optimization2 = extract_info_from_filename(filename2)\n",
    "\n",
    "            if compiler1 is not None and optimization1 is not None and compiler2 is not None and optimization2 is not None:\n",
    "                updateDataset(filename1, subdirectory1_path, compiler1, optimization1, filename2, subdirectory2_path, compiler2, optimization2)\n",
    "            else:\n",
    "                print(\"Bad arguments\")\n",
    "\n",
    "def createDataset():\n",
    "    clear_csv_file()\n",
    "    csv_writer = write_to_CSV(\"File1\", \"path1\", \"Compiler1\", \"Optimization1\",\"File2\", \"path2\", \"Compiler2\", \"Optimization2\", \"SameSourceFile\")\n",
    "\n",
    "    for subdirectory1 in os.listdir(output_directory):\n",
    "        subdirectory1_path = os.path.join(output_directory, subdirectory1)\n",
    "        for subdirectory2 in os.listdir(output_directory):\n",
    "            subdirectory2_path = os.path.join(output_directory, subdirectory2)\n",
    "            if os.path.isdir(subdirectory1_path) and os.path.isdir(subdirectory2_path):\n",
    "                if subdirectory1 != subdirectory2:  \n",
    "                    process_directory(subdirectory1_path, csv_writer)         \n",
    "                    process_directory(subdirectory2_path, csv_writer)\n",
    "                    process_two_directories(subdirectory1_path, subdirectory2_path)\n",
    "                else:\n",
    "                    process_directory(subdirectory1_path)"
   ]
  },
  {
   "cell_type": "markdown",
   "metadata": {},
   "source": [
    "Main Run"
   ]
  },
  {
   "cell_type": "code",
   "execution_count": null,
   "metadata": {},
   "outputs": [],
   "source": [
    "compileAllFiles()\n",
    "createDataset()"
   ]
  }
 ],
 "metadata": {
  "kernelspec": {
   "display_name": "Python 3",
   "language": "python",
   "name": "python3"
  },
  "language_info": {
   "codemirror_mode": {
    "name": "ipython",
    "version": 3
   },
   "file_extension": ".py",
   "mimetype": "text/x-python",
   "name": "python",
   "nbconvert_exporter": "python",
   "pygments_lexer": "ipython3",
   "version": "3.10.12"
  }
 },
 "nbformat": 4,
 "nbformat_minor": 2
}
